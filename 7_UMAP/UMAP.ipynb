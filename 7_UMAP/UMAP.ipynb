{
 "cells": [
  {
   "cell_type": "code",
   "execution_count": null,
   "metadata": {},
   "outputs": [],
   "source": [
    "!pip install umap-learn\n",
    "!pip install seaborn\n",
    "!pip install numpy==1.24"
   ]
  },
  {
   "cell_type": "code",
   "execution_count": null,
   "metadata": {},
   "outputs": [],
   "source": [
    "import numpy as np\n",
    "\n",
    "# Load CSV data using numpy\n",
    "J = np.loadtxt('UMAP/var/J1.csv', delimiter=',')\n",
    "\n",
    "print(J)"
   ]
  },
  {
   "cell_type": "code",
   "execution_count": null,
   "metadata": {},
   "outputs": [],
   "source": [
    "J.shape"
   ]
  },
  {
   "cell_type": "code",
   "execution_count": null,
   "metadata": {},
   "outputs": [],
   "source": [
    "import numpy as np\n",
    "from umap import UMAP\n",
    "\n",
    "# Load your Jacobian matrix (replace this with your actual data)\n",
    "jacobian_matrix = J.T\n",
    "# Perform UMAP dimensionality reduction\n",
    "reducer = UMAP(n_components=3)\n",
    "U_p = reducer.fit_transform(jacobian_matrix)\n",
    "\n",
    "# Print the shape of the reduced matrix\n",
    "print(\"Reduced Matrix Shape:\", U_p.shape)"
   ]
  },
  {
   "cell_type": "code",
   "execution_count": null,
   "metadata": {},
   "outputs": [],
   "source": [
    "from scipy.io import savemat\n",
    "\n",
    "savemat('U_p.mat', {'Up': U_p})"
   ]
  }
 ],
 "metadata": {
  "kernelspec": {
   "display_name": "NIRFAST",
   "language": "python",
   "name": "python3"
  },
  "language_info": {
   "codemirror_mode": {
    "name": "ipython",
    "version": 3
   },
   "file_extension": ".py",
   "mimetype": "text/x-python",
   "name": "python",
   "nbconvert_exporter": "python",
   "pygments_lexer": "ipython3",
   "version": "3.11.4"
  },
  "orig_nbformat": 4
 },
 "nbformat": 4,
 "nbformat_minor": 2
}
